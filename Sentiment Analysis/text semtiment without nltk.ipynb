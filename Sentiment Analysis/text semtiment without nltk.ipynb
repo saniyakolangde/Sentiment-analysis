{
 "cells": [
  {
   "cell_type": "markdown",
   "id": "a4da00ab",
   "metadata": {},
   "source": [
    "# Sentiment Analysis\n",
    "We will read a text file and clean it up to ensure that it is in lower case and puncuations dont intterupt the flow."
   ]
  },
  {
   "cell_type": "code",
   "execution_count": 25,
   "id": "8f065ee4",
   "metadata": {},
   "outputs": [],
   "source": [
    "import string\n",
    "from collections import Counter\n",
    "import matplotlib.pyplot as plt\n",
    "\n",
    "text = open('read.txt', encoding = 'utf-8').read()\n",
    "lower_case = text.lower()"
   ]
  },
  {
   "cell_type": "code",
   "execution_count": 7,
   "id": "3005f67f",
   "metadata": {},
   "outputs": [
    {
     "name": "stdout",
     "output_type": "stream",
     "text": [
      "i have been feeling very angry at myself quite often\n"
     ]
    }
   ],
   "source": [
    "#converting the string to a string without the punctuations \n",
    "# done with funct str.maketrans(chars to replace,chars to replace with,chars to be deleted)\n",
    "cleaned_text = lower_case.translate(str.maketrans('','',string.punctuation))\n",
    "print(cleaned_text)"
   ]
  },
  {
   "cell_type": "markdown",
   "id": "5ec9cea1",
   "metadata": {},
   "source": [
    "Tokenization to break sentence into seperate words and stored in a list"
   ]
  },
  {
   "cell_type": "code",
   "execution_count": 19,
   "id": "5d1bc8b8",
   "metadata": {},
   "outputs": [
    {
     "name": "stdout",
     "output_type": "stream",
     "text": [
      "['i', 'have', 'been', 'feeling', 'very', 'angry', 'at', 'myself', 'quite', 'often']\n"
     ]
    }
   ],
   "source": [
    "tokenized_word = cleaned_text.split()\n",
    "print (tokenized_word)"
   ]
  },
  {
   "cell_type": "markdown",
   "id": "ca551bc0",
   "metadata": {},
   "source": [
    "Stop words that do not add meaning to the sentence"
   ]
  },
  {
   "cell_type": "code",
   "execution_count": 11,
   "id": "81ec0aa0",
   "metadata": {},
   "outputs": [],
   "source": [
    "stop_words = [\"i\", \"me\", \"my\", \"myself\", \"we\", \"our\", \"ours\", \"ourselves\", \"you\", \"your\", \"yours\", \"yourself\",\n",
    "              \"yourselves\", \"he\", \"him\", \"his\", \"himself\", \"she\", \"her\", \"hers\", \"herself\", \"it\", \"its\", \"itself\",\n",
    "              \"they\", \"them\", \"their\", \"theirs\", \"themselves\", \"what\", \"which\", \"who\", \"whom\", \"this\", \"that\", \"these\",\n",
    "              \"those\", \"am\", \"is\", \"are\", \"was\", \"were\", \"be\", \"been\", \"being\", \"have\", \"has\", \"had\", \"having\", \"do\",\n",
    "              \"does\", \"did\", \"doing\", \"a\", \"an\", \"the\", \"and\", \"but\", \"if\", \"or\", \"because\", \"as\", \"until\", \"while\",\n",
    "              \"of\", \"at\", \"by\", \"for\", \"with\", \"about\", \"against\", \"between\", \"into\", \"through\", \"during\", \"before\",\n",
    "              \"after\", \"above\", \"below\", \"to\", \"from\", \"up\", \"down\", \"in\", \"out\", \"on\", \"off\", \"over\", \"under\", \"again\",\n",
    "              \"further\", \"then\", \"once\", \"here\", \"there\", \"when\", \"where\", \"why\", \"how\", \"all\", \"any\", \"both\", \"each\",\n",
    "              \"few\", \"more\", \"most\", \"other\", \"some\", \"such\", \"no\", \"nor\", \"not\", \"only\", \"own\", \"same\", \"so\", \"than\",\n",
    "              \"too\", \"very\", \"s\", \"t\", \"can\", \"will\", \"just\", \"don\", \"should\", \"now\"]"
   ]
  },
  {
   "cell_type": "markdown",
   "id": "6e16db63",
   "metadata": {},
   "source": [
    "Remove the stop words from tokenized words"
   ]
  },
  {
   "cell_type": "code",
   "execution_count": 20,
   "id": "2899f6e3",
   "metadata": {},
   "outputs": [
    {
     "name": "stdout",
     "output_type": "stream",
     "text": [
      "['feeling', 'angry', 'quite', 'often']\n"
     ]
    }
   ],
   "source": [
    "final_words = []\n",
    "for word in tokenized_word:\n",
    "    if word not in stop_words:\n",
    "        final_words.append(word)\n",
    "        \n",
    "print(final_words)"
   ]
  },
  {
   "cell_type": "markdown",
   "id": "9492ae87",
   "metadata": {},
   "source": [
    "NLP emotion recognition"
   ]
  },
  {
   "cell_type": "code",
   "execution_count": 21,
   "id": "14a70d77",
   "metadata": {},
   "outputs": [],
   "source": [
    "emotion_list = []\n",
    "with open('emotions.txt', 'r') as file:\n",
    "    for line in file:\n",
    "        clear_line = line.replace(\"\\n\", '').replace(\",\", '').replace(\"'\", '').strip()\n",
    "        word, emotion = clear_line.split(':')\n",
    "        \n",
    "        if word in final_words:\n",
    "            emotion_list.append(emotion)"
   ]
  },
  {
   "cell_type": "markdown",
   "id": "7305d6b9",
   "metadata": {},
   "source": [
    "How many times is the emotion being repeated in sentance"
   ]
  },
  {
   "cell_type": "code",
   "execution_count": 22,
   "id": "f8526ec7",
   "metadata": {},
   "outputs": [
    {
     "name": "stdout",
     "output_type": "stream",
     "text": [
      "[' angry']\n",
      "Counter({' angry': 1})\n"
     ]
    }
   ],
   "source": [
    "print(emotion_list)\n",
    "w = Counter(emotion_list)\n",
    "print(w)"
   ]
  },
  {
   "cell_type": "code",
   "execution_count": 27,
   "id": "d9dbe484",
   "metadata": {},
   "outputs": [
    {
     "data": {
      "image/png": "[encoded data removed]",
      "text/plain": [
       "<Figure size 432x288 with 1 Axes>"
      ]
     },
     "metadata": {
      "needs_background": "light"
     },
     "output_type": "display_data"
    }
   ],
   "source": [
    "# Plotting the emotions on the graph\n",
    "\n",
    "fig, ax1 = plt.subplots()\n",
    "ax1.bar(w.keys(), w.values())\n",
    "fig.autofmt_xdate()\n",
    "#plt.savefig('graph.png')\n",
    "plt.show()"
   ]
  },
  {
   "cell_type": "code",
   "execution_count": null,
   "id": "5c392f6c",
   "metadata": {},
   "outputs": [],
   "source": []
  }
 ],
 "metadata": {
  "kernelspec": {
   "display_name": "Python 3",
   "language": "python",
   "name": "python3"
  },
  "language_info": {
   "codemirror_mode": {
    "name": "ipython",
    "version": 3
   },
   "file_extension": ".py",
   "mimetype": "text/x-python",
   "name": "python",
   "nbconvert_exporter": "python",
   "pygments_lexer": "ipython3",
   "version": "3.8.8"
  }
 },
 "nbformat": 4,
 "nbformat_minor": 5
}
