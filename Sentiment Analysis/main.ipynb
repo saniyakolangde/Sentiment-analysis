{
 "cells": [
  {
   "cell_type": "markdown",
   "id": "e410e1d1",
   "metadata": {},
   "source": [
    "# Sentiment Analysis with NLTK\n",
    "We will read a text file and clean it up to ensure that it is in lower case and puncuations dont intterupt the flow."
   ]
  },
  {
   "cell_type": "code",
   "execution_count": 1,
   "id": "07865ab8",
   "metadata": {},
   "outputs": [],
   "source": [
    "import string\n",
    "from collections import Counter\n",
    "import matplotlib.pyplot as plt\n",
    "from nltk.corpus import stopwords\n",
    "from nltk.sentiment.vader import SentimentIntensityAnalyzer\n",
    "from nltk.stem import WordNetLemmatizer\n",
    "from nltk.tokenize import word_tokenize"
   ]
  },
  {
   "cell_type": "code",
   "execution_count": 2,
   "id": "0f62348f",
   "metadata": {},
   "outputs": [
    {
     "name": "stdout",
     "output_type": "stream",
     "text": [
      "i have been feeling very angry at myself quite often\n"
     ]
    }
   ],
   "source": [
    "text = open('read.txt', encoding = 'utf-8').read()\n",
    "lower_case = text.lower()\n",
    "\n",
    "#converting the string to a string without the punctuations \n",
    "# done with funct str.maketrans(chars to replace,chars to replace with,chars to be deleted)\n",
    "cleaned_text = lower_case.translate(str.maketrans('','',string.punctuation))\n",
    "print(cleaned_text)"
   ]
  },
  {
   "cell_type": "markdown",
   "id": "56bb6104",
   "metadata": {},
   "source": [
    "Tokenization to break sentence into seperate words and stored in a list"
   ]
  },
  {
   "cell_type": "code",
   "execution_count": 4,
   "id": "05f5f785",
   "metadata": {},
   "outputs": [
    {
     "name": "stdout",
     "output_type": "stream",
     "text": [
      "['i', 'have', 'been', 'feeling', 'very', 'angry', 'at', 'myself', 'quite', 'often']\n"
     ]
    }
   ],
   "source": [
    "# Using word_tokenize because it's faster than split()\n",
    "tokenized_words = word_tokenize(cleaned_text, \"english\")\n",
    "print (tokenized_words)"
   ]
  },
  {
   "cell_type": "markdown",
   "id": "9425e685",
   "metadata": {},
   "source": [
    "Remove stop words that do not add meaning to the sentence"
   ]
  },
  {
   "cell_type": "code",
   "execution_count": 6,
   "id": "2259058a",
   "metadata": {},
   "outputs": [
    {
     "name": "stdout",
     "output_type": "stream",
     "text": [
      "['feeling', 'angry', 'quite', 'often']\n"
     ]
    }
   ],
   "source": [
    "final_words = []\n",
    "for word in tokenized_words:\n",
    "    if word not in stopwords.words('english'):\n",
    "        final_words.append(word)\n",
    "        \n",
    "print(final_words)"
   ]
  },
  {
   "cell_type": "code",
   "execution_count": 8,
   "id": "93a845f9",
   "metadata": {},
   "outputs": [
    {
     "name": "stdout",
     "output_type": "stream",
     "text": [
      "['feeling', 'angry', 'quite', 'often']\n"
     ]
    }
   ],
   "source": [
    "# Lemmatization - From plural to single + Base form of a word (example better-> good)\n",
    "lemma_words = []\n",
    "for word in final_words:\n",
    "    word = WordNetLemmatizer().lemmatize(word)\n",
    "    lemma_words.append(word)\n",
    "    \n",
    "print(lemma_words)"
   ]
  },
  {
   "cell_type": "markdown",
   "id": "36d7b0a8",
   "metadata": {},
   "source": [
    "NLP emotion recognition"
   ]
  },
  {
   "cell_type": "code",
   "execution_count": 9,
   "id": "5e327604",
   "metadata": {},
   "outputs": [],
   "source": [
    "emotion_list = []\n",
    "with open('emotions.txt', 'r') as file:\n",
    "    for line in file:\n",
    "        clear_line = line.replace(\"\\n\", '').replace(\",\", '').replace(\"'\", '').strip()\n",
    "        word, emotion = clear_line.split(':')\n",
    "\n",
    "        if word in lemma_words:\n",
    "            emotion_list.append(emotion)"
   ]
  },
  {
   "cell_type": "markdown",
   "id": "0793ed24",
   "metadata": {},
   "source": [
    "How many times is the emotion being repeated in sentance"
   ]
  },
  {
   "cell_type": "code",
   "execution_count": 10,
   "id": "ccc8818e",
   "metadata": {},
   "outputs": [
    {
     "name": "stdout",
     "output_type": "stream",
     "text": [
      "[' angry']\n",
      "Counter({' angry': 1})\n"
     ]
    }
   ],
   "source": [
    "print(emotion_list)\n",
    "w = Counter(emotion_list)\n",
    "print(w)"
   ]
  },
  {
   "cell_type": "code",
   "execution_count": 11,
   "id": "a80f12f6",
   "metadata": {},
   "outputs": [],
   "source": [
    "def sentiment_analyse(sentiment_text):\n",
    "    score = SentimentIntensityAnalyzer().polarity_scores(sentiment_text)\n",
    "    if score['neg'] > score['pos']:\n",
    "        print(\"Negative Sentiment\")\n",
    "    elif score['neg'] < score['pos']:\n",
    "        print(\"Positive Sentiment\")\n",
    "    else:\n",
    "        print(\"Neutral Sentiment\")"
   ]
  },
  {
   "cell_type": "code",
   "execution_count": 12,
   "id": "0937f416",
   "metadata": {},
   "outputs": [
    {
     "name": "stdout",
     "output_type": "stream",
     "text": [
      "Negative Sentiment\n"
     ]
    },
    {
     "data": {
      "image/png": "[encoded data removed]",
      "text/plain": [
       "<Figure size 432x288 with 1 Axes>"
      ]
     },
     "metadata": {
      "needs_background": "light"
     },
     "output_type": "display_data"
    }
   ],
   "source": [
    "sentiment_analyse(cleaned_text)\n",
    "\n",
    "fig, ax1 = plt.subplots()\n",
    "ax1.bar(w.keys(), w.values())\n",
    "fig.autofmt_xdate()\n",
    "#plt.savefig('graph.png')\n",
    "plt.show()"
   ]
  },
  {
   "cell_type": "code",
   "execution_count": null,
   "id": "26d3014d",
   "metadata": {},
   "outputs": [],
   "source": []
  }
 ],
 "metadata": {
  "kernelspec": {
   "display_name": "Python 3",
   "language": "python",
   "name": "python3"
  },
  "language_info": {
   "codemirror_mode": {
    "name": "ipython",
    "version": 3
   },
   "file_extension": ".py",
   "mimetype": "text/x-python",
   "name": "python",
   "nbconvert_exporter": "python",
   "pygments_lexer": "ipython3",
   "version": "3.8.8"
  }
 },
 "nbformat": 4,
 "nbformat_minor": 5
}
